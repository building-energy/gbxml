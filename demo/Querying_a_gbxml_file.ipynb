{
 "cells": [
  {
   "cell_type": "markdown",
   "metadata": {},
   "source": [
    "# Querying a gbXML file\n",
    "\n",
    "This notebook demonstrates how to query a gbXML file using the `gbxml` python package."
   ]
  },
  {
   "cell_type": "markdown",
   "metadata": {},
   "source": [
    "## Importing the `Gbxml` class\n"
   ]
  },
  {
   "cell_type": "code",
   "execution_count": 1,
   "metadata": {},
   "outputs": [],
   "source": [
    "from gbxml import Gbxml"
   ]
  },
  {
   "cell_type": "markdown",
   "metadata": {},
   "source": [
    "## Loading the gbXML file\n",
    "\n",
    "This creates an instance of the Gbxml class and reads in a sample gbXML file called 'detached_house.gbxml'"
   ]
  },
  {
   "cell_type": "code",
   "execution_count": 2,
   "metadata": {},
   "outputs": [
    {
     "data": {
      "text/plain": [
       "<gbxml.gbxml.Gbxml at 0x18735e882b0>"
      ]
     },
     "execution_count": 2,
     "metadata": {},
     "output_type": "execute_result"
    }
   ],
   "source": [
    "g = Gbxml('detached_house.gbxml')\n",
    "g"
   ]
  },
  {
   "cell_type": "markdown",
   "metadata": {},
   "source": [
    "## General Methods\n",
    "\n",
    "### get_ids"
   ]
  },
  {
   "cell_type": "code",
   "execution_count": 4,
   "metadata": {},
   "outputs": [
    {
     "name": "stdout",
     "output_type": "stream",
     "text": [
      "Returns the id attributes of elements\n",
      "        \n",
      "        :param tag: an element tag to filter on\n",
      "        :type tag: str, optional\n",
      "        \n",
      "        :return: a list of element ids\n",
      "        :rtype: list\n"
     ]
    }
   ],
   "source": [
    "print(Gbxml.get_ids.__doc__.strip())"
   ]
  },
  {
   "cell_type": "code",
   "execution_count": 10,
   "metadata": {},
   "outputs": [
    {
     "name": "stdout",
     "output_type": "stream",
     "text": [
      "['campus-1', 'detached_house', 'GROUP_1', 'DINING_ROOM', 'KITCHEN', 'LIVING_ROOM', 'HALL', 'BATHROOM', 'WC', 'BEDROOM2', 'BEDROOM1', 'BEDROOM3', 'LANDING', 'ROOF', 'surface-1', 'surface-2', 'surface-3', 'surface-4', 'surface-5', 'surface-6', 'surface-6-opening-1', 'surface-7', 'surface-8', 'surface-9', 'surface-10', 'surface-11', 'surface-12', 'surface-13', 'surface-13-opening-1', 'surface-14', 'surface-14-opening-1', 'surface-15', 'surface-16', 'surface-17', 'surface-18', 'surface-19', 'surface-20', 'surface-21', 'surface-22', 'surface-23', 'surface-23-opening-1', 'surface-24', 'surface-25', 'surface-26', 'surface-27', 'surface-28', 'surface-28-opening-1', 'surface-29', 'surface-30', 'surface-31', 'surface-31-opening-1', 'surface-32', 'surface-33', 'surface-34', 'surface-35', 'surface-35-opening-1', 'surface-36', 'surface-37', 'surface-38', 'surface-39', 'surface-39-opening-1', 'surface-40', 'surface-41', 'surface-42', 'surface-43', 'surface-44', 'surface-45', 'surface-46', 'surface-47', 'surface-47-opening-1', 'surface-48', 'surface-49', 'surface-50', 'surface-51', 'surface-52', 'surface-53', 'surface-53-opening-1', 'surface-54', 'surface-55', 'surface-56', 'surface-57', 'surface-58', 'surface-59', 'surface-59-opening-1', 'surface-60', 'surface-61', 'surface-62', 'surface-63', 'surface-64', 'surface-65', 'surface-66', 'surface-67', 'CEIL', 'PART', 'STD_DOOR', 'STD_FLO1', 'STD_ROOF', 'WALL', 'layer-CEIL', 'layer-PART', 'layer-STD_DOOR', 'layer-STD_FLO1', 'layer-STD_ROOF', 'layer-WALL', 'BRI-0.105', 'BRO1-0.105', 'Cavity-AIR-0.05', 'Cavity-AIR-0.065', 'Cavity-AIR-0.2', 'GPB-0.01', 'SCP-0.005', 'STDCBM21-0.037', 'STD_CC1-0.1', 'STD_CC2-0.1', 'STD_FBA-0.02', 'STD_MEM-0.0001', 'STD_PH1-0.0982', 'STD_PHF-0.1544', 'STD_US5-0.0125', 'STD_US5-0.016', 'TMF-0.02', 'STD_EXTW', 'STD_EXTW-layer-1', 'STD_EXTW-layer-2', 'STD_EXTW-layer-3', 'IESVE', 'cvskf', 'Zone-DINING_ROOM', 'Zone-KITCHEN', 'Zone-LIVING_ROOM', 'Zone-HALL', 'Zone-BATHROOM', 'Zone-WC', 'Zone-BEDROOM2', 'Zone-BEDROOM1', 'Zone-BEDROOM3', 'Zone-LANDING', 'schedule-alwaysOn', 'yearSchedule-alwaysOn', 'weekSchedule-alwaysOn', 'daySchedule-alwaysOn', 'schedule-heating', 'yearSchedule-heating1', 'yearSchedule-heating2', 'yearSchedule-heating3', 'weekSchedule-heatingOn', 'weekSchedule-heatingOff', 'daySchedule-heatingOn', 'daySchedule-heatingOff']\n"
     ]
    }
   ],
   "source": [
    "result=g.get_ids()\n",
    "print(result)"
   ]
  },
  {
   "cell_type": "code",
   "execution_count": 11,
   "metadata": {},
   "outputs": [
    {
     "name": "stdout",
     "output_type": "stream",
     "text": [
      "['DINING_ROOM', 'KITCHEN', 'LIVING_ROOM', 'HALL', 'BATHROOM', 'WC', 'BEDROOM2', 'BEDROOM1', 'BEDROOM3', 'LANDING', 'ROOF']\n"
     ]
    }
   ],
   "source": [
    "result=g.get_ids(tag='Space')\n",
    "print(result)"
   ]
  },
  {
   "cell_type": "markdown",
   "metadata": {},
   "source": [
    "### get_xmlstring"
   ]
  },
  {
   "cell_type": "code",
   "execution_count": 5,
   "metadata": {},
   "outputs": [
    {
     "name": "stdout",
     "output_type": "stream",
     "text": [
      "Returns a string of an xml element\n",
      "        \n",
      "        :param id: an element id to filter on\n",
      "        :type id: str, optional\n",
      "        \n",
      "        :return: a string of xml contents\n",
      "        :rtype: str\n"
     ]
    }
   ],
   "source": [
    "print(Gbxml.get_xmlstring.__doc__.strip())"
   ]
  },
  {
   "cell_type": "code",
   "execution_count": 12,
   "metadata": {},
   "outputs": [
    {
     "data": {
      "text/plain": [
       "'<ns0:gbXML xmlns:ns0=\"http://www.gbxml.org/schema\" temperatureUnit=\"C\" lengthUnit=\"Meters\" areaUnit=\"SquareMeters\" volumeUnit=\"CubicMeters\" useSIUnitsForResults=\"true\" version=\"0.37\">\\n  <ns0:Campus id=\"campus-1\">\\n    <ns0:Name>detached_house</ns0:Name>\\n    <ns0:Location>\\n      <ns0:CADModelAzimuth>-0.000000</ns0:CADModelAzimuth>\\n    </ns0:Location>\\n    <ns0:Building id=\"detached_house\" buildingType=\"Unknown\">\\n      <ns0:BuildingStorey id=\"GROUP_1\">\\n        <ns0:Name>Ground Floor</ns0:Name>\\n        <ns0:Level>0.000000</ns0:Level>\\n      </ns0:BuildingStorey>\\n      <ns0:Space id=\"DINING_ROOM\" conditionType=\"HeatedAndCooled\" buildingStoreyIdRef=\"GROUP_1\" peopleScheduleIdRef=\"schedule-alwaysOn\" lightScheduleIdRef=\"schedule-alwaysOn\" equipmentScheduleIdRef=\"schedule-alwaysOn\" zoneIdRef=\"Zone-DINING_ROOM\">\\n        <ns0:Name>DINING_ROOM</ns0:Name>\\n        <ns0:Area>13.136900</ns0:Area>\\n        <ns0:Volume>32.842250</ns0:Volume>\\n        <ns0:AirChangesPerHour>0.5</ns0:AirChangesPerHour>\\n       '"
      ]
     },
     "execution_count": 12,
     "metadata": {},
     "output_type": "execute_result"
    }
   ],
   "source": [
    "result=g.get_xmlstring()\n",
    "result[:1000]"
   ]
  },
  {
   "cell_type": "code",
   "execution_count": 13,
   "metadata": {},
   "outputs": [
    {
     "name": "stdout",
     "output_type": "stream",
     "text": [
      "<ns0:Space xmlns:ns0=\"http://www.gbxml.org/schema\" id=\"DINING_ROOM\" conditionType=\"HeatedAndCooled\" buildingStoreyIdRef=\"GROUP_1\" peopleScheduleIdRef=\"schedule-alwaysOn\" lightScheduleIdRef=\"schedule-alwaysOn\" equipmentScheduleIdRef=\"schedule-alwaysOn\" zoneIdRef=\"Zone-DINING_ROOM\">\n",
      "        <ns0:Name>DINING_ROOM</ns0:Name>\n",
      "        <ns0:Area>13.136900</ns0:Area>\n",
      "        <ns0:Volume>32.842250</ns0:Volume>\n",
      "        <ns0:AirChangesPerHour>0.5</ns0:AirChangesPerHour>\n",
      "        <ns0:PeopleNumber unit=\"NumberOfPeople\">0.2</ns0:PeopleNumber>\n",
      "        <ns0:PeopleHeatGain unit=\"WattPerPerson\" heatGainType=\"Total\">90</ns0:PeopleHeatGain>\n",
      "        <ns0:LightPowerPerArea unit=\"WattPerSquareMeter\">0.5</ns0:LightPowerPerArea>\n",
      "        <ns0:EquipPowerPerArea unit=\"WattPerSquareMeter\">3</ns0:EquipPowerPerArea>\n",
      "      </ns0:Space>\n",
      "      \n",
      "\n"
     ]
    }
   ],
   "source": [
    "result=g.get_xmlstring(id='DINING_ROOM')\n",
    "print(result)"
   ]
  },
  {
   "cell_type": "markdown",
   "metadata": {},
   "source": [
    "### get_attributes"
   ]
  },
  {
   "cell_type": "code",
   "execution_count": 14,
   "metadata": {},
   "outputs": [
    {
     "name": "stdout",
     "output_type": "stream",
     "text": [
      "Returns the attributes of an element\n",
      "        \n",
      "        :param id: an element id\n",
      "        :type id: str\n",
      "        \n",
      "        :return: the attributes of the element\n",
      "        :rtype: dict\n"
     ]
    }
   ],
   "source": [
    "print(Gbxml.get_attributes.__doc__.strip())"
   ]
  },
  {
   "cell_type": "code",
   "execution_count": 41,
   "metadata": {},
   "outputs": [
    {
     "data": {
      "text/plain": [
       "{'id': 'DINING_ROOM',\n",
       " 'conditionType': 'HeatedAndCooled',\n",
       " 'buildingStoreyIdRef': 'GROUP_1',\n",
       " 'peopleScheduleIdRef': 'schedule-alwaysOn',\n",
       " 'lightScheduleIdRef': 'schedule-alwaysOn',\n",
       " 'equipmentScheduleIdRef': 'schedule-alwaysOn',\n",
       " 'zoneIdRef': 'Zone-DINING_ROOM'}"
      ]
     },
     "execution_count": 41,
     "metadata": {},
     "output_type": "execute_result"
    }
   ],
   "source": [
    "g.get_attributes(id='DINING_ROOM')"
   ]
  },
  {
   "cell_type": "markdown",
   "metadata": {},
   "source": [
    "### get_child_tags"
   ]
  },
  {
   "cell_type": "code",
   "execution_count": 15,
   "metadata": {},
   "outputs": [
    {
     "name": "stdout",
     "output_type": "stream",
     "text": [
      "Returns the child tags of an element\n",
      "        \n",
      "        :param id: an element id\n",
      "        :type id: str\n",
      "        \n",
      "        :return: a list of the tags of the child elements\n",
      "        :rtype: list\n"
     ]
    }
   ],
   "source": [
    "print(Gbxml.get_child_tags.__doc__.strip())"
   ]
  },
  {
   "cell_type": "code",
   "execution_count": 54,
   "metadata": {},
   "outputs": [
    {
     "name": "stdout",
     "output_type": "stream",
     "text": [
      "['Name', 'Area', 'Volume', 'AirChangesPerHour', 'PeopleNumber', 'PeopleHeatGain', 'LightPowerPerArea', 'EquipPowerPerArea']\n"
     ]
    }
   ],
   "source": [
    "result=g.get_child_tags(id='DINING_ROOM')\n",
    "print(result)"
   ]
  },
  {
   "cell_type": "markdown",
   "metadata": {},
   "source": [
    "### get_child_tag_text"
   ]
  },
  {
   "cell_type": "code",
   "execution_count": 16,
   "metadata": {},
   "outputs": [
    {
     "name": "stdout",
     "output_type": "stream",
     "text": [
      "Returns the text of child elements\n",
      "        \n",
      "        :param id: an element id\n",
      "        :type id: str\n",
      "        :param child_tag: a tag of a child element\n",
      "        :type child_tag: str\n",
      "        \n",
      "        :return: a list of the text of child elements with the child_tag tag\n",
      "        :rtype: list\n"
     ]
    }
   ],
   "source": [
    "print(Gbxml.get_child_tag_text.__doc__.strip())"
   ]
  },
  {
   "cell_type": "code",
   "execution_count": 45,
   "metadata": {},
   "outputs": [
    {
     "data": {
      "text/plain": [
       "['13.136900']"
      ]
     },
     "execution_count": 45,
     "metadata": {},
     "output_type": "execute_result"
    }
   ],
   "source": [
    "g.get_child_tag_text(id='DINING_ROOM',child_tag='Area')"
   ]
  },
  {
   "cell_type": "markdown",
   "metadata": {},
   "source": [
    "### get_child_tag_attributes"
   ]
  },
  {
   "cell_type": "code",
   "execution_count": 17,
   "metadata": {},
   "outputs": [
    {
     "name": "stdout",
     "output_type": "stream",
     "text": [
      "Returns the attributes of child elements\n",
      "        \n",
      "        :param id: an element id\n",
      "        :type id: str\n",
      "        :param child_tag: a tag of a child element\n",
      "        :type child_tag: str\n",
      "        \n",
      "        :return: a list of the attributes of each child element with the child_tag tag\n",
      "        :rtype: list\n"
     ]
    }
   ],
   "source": [
    "print(Gbxml.get_child_tag_attributes.__doc__.strip())"
   ]
  },
  {
   "cell_type": "code",
   "execution_count": 46,
   "metadata": {},
   "outputs": [
    {
     "data": {
      "text/plain": [
       "[{'unit': 'WattPerPerson', 'heatGainType': 'Total'}]"
      ]
     },
     "execution_count": 46,
     "metadata": {},
     "output_type": "execute_result"
    }
   ],
   "source": [
    "g.get_child_tag_attributes(id='DINING_ROOM',child_tag='PeopleHeatGain')"
   ]
  },
  {
   "cell_type": "markdown",
   "metadata": {},
   "source": [
    "### get_children_list"
   ]
  },
  {
   "cell_type": "code",
   "execution_count": 18,
   "metadata": {},
   "outputs": [
    {
     "name": "stdout",
     "output_type": "stream",
     "text": [
      "Returns a list of dicts representing each child element\n",
      "        \n",
      "        :param id: an element id\n",
      "        :type id: str\n",
      "        \n",
      "        :return: a list of dicts {'tag':(str),'text':(str),'attributes':(dict)}\n",
      "        :rtype: list\n"
     ]
    }
   ],
   "source": [
    "print(Gbxml.get_children_list.__doc__.strip())"
   ]
  },
  {
   "cell_type": "code",
   "execution_count": 47,
   "metadata": {},
   "outputs": [
    {
     "data": {
      "text/plain": [
       "[{'tag': 'Name', 'text': 'DINING_ROOM', 'attributes': {}},\n",
       " {'tag': 'Area', 'text': '13.136900', 'attributes': {}},\n",
       " {'tag': 'Volume', 'text': '32.842250', 'attributes': {}},\n",
       " {'tag': 'AirChangesPerHour', 'text': '0.5', 'attributes': {}},\n",
       " {'tag': 'PeopleNumber',\n",
       "  'text': '0.2',\n",
       "  'attributes': {'unit': 'NumberOfPeople'}},\n",
       " {'tag': 'PeopleHeatGain',\n",
       "  'text': '90',\n",
       "  'attributes': {'unit': 'WattPerPerson', 'heatGainType': 'Total'}},\n",
       " {'tag': 'LightPowerPerArea',\n",
       "  'text': '0.5',\n",
       "  'attributes': {'unit': 'WattPerSquareMeter'}},\n",
       " {'tag': 'EquipPowerPerArea',\n",
       "  'text': '3',\n",
       "  'attributes': {'unit': 'WattPerSquareMeter'}}]"
      ]
     },
     "execution_count": 47,
     "metadata": {},
     "output_type": "execute_result"
    }
   ],
   "source": [
    "g.get_children_list(id='DINING_ROOM')"
   ]
  },
  {
   "cell_type": "markdown",
   "metadata": {},
   "source": [
    "## Campus query methods\n",
    "\n",
    "### get_campus_location_tags"
   ]
  },
  {
   "cell_type": "code",
   "execution_count": 20,
   "metadata": {},
   "outputs": [
    {
     "name": "stdout",
     "output_type": "stream",
     "text": [
      "Returns the child tags of the Location element of a campus\n",
      "        \n",
      "        :param id: a Campus element id\n",
      "        :type id: str\n",
      "        \n",
      "        :return: a list of the tags of the Location element\n",
      "        :rtype: list\n"
     ]
    }
   ],
   "source": [
    "print(Gbxml.get_campus_location_tags.__doc__.strip())"
   ]
  },
  {
   "cell_type": "code",
   "execution_count": 49,
   "metadata": {},
   "outputs": [
    {
     "data": {
      "text/plain": [
       "['CADModelAzimuth']"
      ]
     },
     "execution_count": 49,
     "metadata": {},
     "output_type": "execute_result"
    }
   ],
   "source": [
    "g.get_campus_location_tags(id='campus-1')"
   ]
  },
  {
   "cell_type": "markdown",
   "metadata": {},
   "source": [
    "### get_campus_location_tag_text"
   ]
  },
  {
   "cell_type": "code",
   "execution_count": 21,
   "metadata": {},
   "outputs": [
    {
     "name": "stdout",
     "output_type": "stream",
     "text": [
      "Returns the text of Location child elements of a campus\n",
      "        \n",
      "        :param id: a Campus element id\n",
      "        :type id: str\n",
      "        :param child_tag: a tag of a child element of the Location element\n",
      "        :type child_tag: str\n",
      "        \n",
      "        :return: a list of the text of child elements of the Location element \n",
      "            with the child_tag tag\n",
      "        :rtype: list\n"
     ]
    }
   ],
   "source": [
    "print(Gbxml.get_campus_location_tag_text.__doc__.strip())"
   ]
  },
  {
   "cell_type": "code",
   "execution_count": 50,
   "metadata": {},
   "outputs": [
    {
     "data": {
      "text/plain": [
       "['-0.000000']"
      ]
     },
     "execution_count": 50,
     "metadata": {},
     "output_type": "execute_result"
    }
   ],
   "source": [
    "g.get_campus_location_tag_text(id='campus-1',child_tag='CADModelAzimuth')"
   ]
  },
  {
   "cell_type": "markdown",
   "metadata": {},
   "source": [
    "## Building query methods\n",
    "\n",
    "### get_building_space_ids"
   ]
  },
  {
   "cell_type": "code",
   "execution_count": 22,
   "metadata": {},
   "outputs": [
    {
     "name": "stdout",
     "output_type": "stream",
     "text": [
      "Returns the ids of all spaces in a building\n",
      "        \n",
      "        :param id: a Building element id\n",
      "        :type id: str\n",
      "        \n",
      "        :return: a list of Space ids\n",
      "        :rtype: list\n"
     ]
    }
   ],
   "source": [
    "print(Gbxml.get_building_space_ids.__doc__.strip())"
   ]
  },
  {
   "cell_type": "code",
   "execution_count": 53,
   "metadata": {},
   "outputs": [
    {
     "name": "stdout",
     "output_type": "stream",
     "text": [
      "['DINING_ROOM', 'KITCHEN', 'LIVING_ROOM', 'HALL', 'BATHROOM', 'WC', 'BEDROOM2', 'BEDROOM1', 'BEDROOM3', 'LANDING', 'ROOF']\n"
     ]
    }
   ],
   "source": [
    "result=g.get_building_space_ids(id='detached_house')\n",
    "print(result)"
   ]
  },
  {
   "cell_type": "markdown",
   "metadata": {},
   "source": [
    "### get_building_surface_ids"
   ]
  },
  {
   "cell_type": "code",
   "execution_count": 23,
   "metadata": {},
   "outputs": [
    {
     "name": "stdout",
     "output_type": "stream",
     "text": [
      "Returns the ids of all surfaces in a building\n",
      "        \n",
      "        :param id: a Building element id\n",
      "        :type id: str\n",
      "        \n",
      "        :return: a list of Surface ids\n",
      "        :rtype: list\n"
     ]
    }
   ],
   "source": [
    "print(Gbxml.get_building_surface_ids.__doc__.strip())"
   ]
  },
  {
   "cell_type": "code",
   "execution_count": 52,
   "metadata": {},
   "outputs": [
    {
     "name": "stdout",
     "output_type": "stream",
     "text": [
      "['surface-61', 'surface-66', 'surface-67', 'surface-2', 'surface-23', 'surface-24', 'surface-5', 'surface-42', 'surface-65', 'surface-26', 'surface-21', 'surface-36', 'surface-50', 'surface-6', 'surface-62', 'surface-64', 'surface-22', 'surface-63', 'surface-56', 'surface-35', 'surface-55', 'surface-52', 'surface-60', 'surface-47', 'surface-48', 'surface-39', 'surface-32', 'surface-12', 'surface-43', 'surface-34', 'surface-14', 'surface-28', 'surface-15', 'surface-16', 'surface-10', 'surface-30', 'surface-9', 'surface-41', 'surface-4', 'surface-46', 'surface-17', 'surface-54', 'surface-13', 'surface-11', 'surface-31', 'surface-40', 'surface-44', 'surface-45', 'surface-25', 'surface-38', 'surface-19', 'surface-27', 'surface-49', 'surface-8', 'surface-57', 'surface-29', 'surface-53', 'surface-58', 'surface-20', 'surface-7', 'surface-1', 'surface-3', 'surface-51', 'surface-59', 'surface-37', 'surface-33', 'surface-18']\n"
     ]
    }
   ],
   "source": [
    "result=g.get_building_surface_ids(id='detached_house')\n",
    "print(result)"
   ]
  },
  {
   "cell_type": "markdown",
   "metadata": {},
   "source": [
    "## Space query methods\n",
    "\n",
    "### get_space_surface_ids"
   ]
  },
  {
   "cell_type": "code",
   "execution_count": 24,
   "metadata": {},
   "outputs": [
    {
     "name": "stdout",
     "output_type": "stream",
     "text": [
      "Returns the ids of all surfaces adjacent to a space\n",
      "        \n",
      "        :param id: a Space element id\n",
      "        :type id: str\n",
      "        \n",
      "        :return: a list of surface ids\n",
      "        :rtype: list\n"
     ]
    }
   ],
   "source": [
    "print(Gbxml.get_space_surface_ids.__doc__.strip())"
   ]
  },
  {
   "cell_type": "code",
   "execution_count": 55,
   "metadata": {},
   "outputs": [
    {
     "name": "stdout",
     "output_type": "stream",
     "text": [
      "['surface-8', 'surface-6', 'surface-2', 'surface-7', 'surface-1', 'surface-4', 'surface-3', 'surface-5']\n"
     ]
    }
   ],
   "source": [
    "result=g.get_space_surface_ids(id='DINING_ROOM')\n",
    "print(result)"
   ]
  },
  {
   "cell_type": "markdown",
   "metadata": {},
   "source": [
    "## Construction query methods\n",
    "\n",
    "### get_construction_layer_ids"
   ]
  },
  {
   "cell_type": "code",
   "execution_count": 25,
   "metadata": {},
   "outputs": [
    {
     "name": "stdout",
     "output_type": "stream",
     "text": [
      "Returns the layer ids of a construction\n",
      "        \n",
      "        :param id: a Construction element id\n",
      "        :type id: str\n",
      "        \n",
      "        :return: a list of layer ids\n",
      "        :rtype: list\n"
     ]
    }
   ],
   "source": [
    "print(Gbxml.get_construction_layer_ids.__doc__.strip())"
   ]
  },
  {
   "cell_type": "code",
   "execution_count": 58,
   "metadata": {},
   "outputs": [
    {
     "data": {
      "text/plain": [
       "['layer-WALL']"
      ]
     },
     "execution_count": 58,
     "metadata": {},
     "output_type": "execute_result"
    }
   ],
   "source": [
    "g.get_construction_layer_ids(id='WALL')"
   ]
  },
  {
   "cell_type": "markdown",
   "metadata": {},
   "source": [
    "### get_construction_material_ids"
   ]
  },
  {
   "cell_type": "code",
   "execution_count": 26,
   "metadata": {},
   "outputs": [
    {
     "name": "stdout",
     "output_type": "stream",
     "text": [
      "Returns the material ids of a construction\n",
      "        \n",
      "        :param id: a Construction element id\n",
      "        :type id: str\n",
      "        \n",
      "        :return: a list of material ids\n",
      "        :rtype: list\n"
     ]
    }
   ],
   "source": [
    "print(Gbxml.get_construction_material_ids.__doc__.strip())"
   ]
  },
  {
   "cell_type": "code",
   "execution_count": 59,
   "metadata": {},
   "outputs": [
    {
     "data": {
      "text/plain": [
       "['BRO1-0.105', 'Cavity-AIR-0.065', 'BRI-0.105', 'STD_US5-0.016']"
      ]
     },
     "execution_count": 59,
     "metadata": {},
     "output_type": "execute_result"
    }
   ],
   "source": [
    "g.get_construction_material_ids(id='WALL')"
   ]
  },
  {
   "cell_type": "markdown",
   "metadata": {},
   "source": [
    "## Layer query methods\n",
    "\n",
    "### get_layer_material_ids"
   ]
  },
  {
   "cell_type": "code",
   "execution_count": 27,
   "metadata": {},
   "outputs": [
    {
     "name": "stdout",
     "output_type": "stream",
     "text": [
      "Returns the material ids of a construction\n",
      "        \n",
      "        :param id: a Layer element id\n",
      "        :type id: str\n",
      "        \n",
      "        :return: a list of material ids\n",
      "        :rtype: list\n"
     ]
    }
   ],
   "source": [
    "print(Gbxml.get_layer_material_ids.__doc__.strip())"
   ]
  },
  {
   "cell_type": "code",
   "execution_count": 60,
   "metadata": {},
   "outputs": [
    {
     "data": {
      "text/plain": [
       "['BRO1-0.105', 'Cavity-AIR-0.065', 'BRI-0.105', 'STD_US5-0.016']"
      ]
     },
     "execution_count": 60,
     "metadata": {},
     "output_type": "execute_result"
    }
   ],
   "source": [
    "g.get_layer_material_ids(id='layer-WALL')"
   ]
  },
  {
   "cell_type": "markdown",
   "metadata": {},
   "source": [
    "## Surface query methods\n",
    "\n",
    "### get_surface_inner_space_id"
   ]
  },
  {
   "cell_type": "code",
   "execution_count": 28,
   "metadata": {},
   "outputs": [
    {
     "name": "stdout",
     "output_type": "stream",
     "text": [
      "Returns the inner space id of a surface\n",
      "        \n",
      "        :param id: a Surface element id\n",
      "        :type id: str\n",
      "        \n",
      "        :return: the inner Space id\n",
      "        :rtype: str or None\n"
     ]
    }
   ],
   "source": [
    "print(Gbxml.get_surface_inner_space_id.__doc__.strip())"
   ]
  },
  {
   "cell_type": "code",
   "execution_count": 62,
   "metadata": {},
   "outputs": [
    {
     "data": {
      "text/plain": [
       "'DINING_ROOM'"
      ]
     },
     "execution_count": 62,
     "metadata": {},
     "output_type": "execute_result"
    }
   ],
   "source": [
    "g.get_surface_inner_space_id(id='surface-6')"
   ]
  },
  {
   "cell_type": "markdown",
   "metadata": {},
   "source": [
    "### get_surface_outer_space_id"
   ]
  },
  {
   "cell_type": "code",
   "execution_count": 29,
   "metadata": {},
   "outputs": [
    {
     "name": "stdout",
     "output_type": "stream",
     "text": [
      "Returns the outer space id of a surface\n",
      "        \n",
      "        :param id: a Surface element id\n",
      "        :type id: str\n",
      "        \n",
      "        :return: the outer Space id\n",
      "        :rtype: str or None\n"
     ]
    }
   ],
   "source": [
    "print(Gbxml.get_surface_outer_space_id.__doc__.strip())"
   ]
  },
  {
   "cell_type": "code",
   "execution_count": 64,
   "metadata": {},
   "outputs": [
    {
     "name": "stdout",
     "output_type": "stream",
     "text": [
      "None\n"
     ]
    }
   ],
   "source": [
    "result=g.get_surface_outer_space_id(id='surface-6')\n",
    "print(result)"
   ]
  },
  {
   "cell_type": "markdown",
   "metadata": {},
   "source": [
    "### get_surface_azimuth"
   ]
  },
  {
   "cell_type": "code",
   "execution_count": 30,
   "metadata": {},
   "outputs": [
    {
     "name": "stdout",
     "output_type": "stream",
     "text": [
      "Returns the azimuth of a surface\n",
      "        \n",
      "        :param id: a Surface element id\n",
      "        :type id: str\n",
      "        \n",
      "        :return: the azimuth value\n",
      "        :rtype: float or None\n"
     ]
    }
   ],
   "source": [
    "print(Gbxml.get_surface_azimuth.__doc__.strip())"
   ]
  },
  {
   "cell_type": "code",
   "execution_count": 65,
   "metadata": {},
   "outputs": [
    {
     "data": {
      "text/plain": [
       "0.0"
      ]
     },
     "execution_count": 65,
     "metadata": {},
     "output_type": "execute_result"
    }
   ],
   "source": [
    "g.get_surface_azimuth(id='surface-6')"
   ]
  },
  {
   "cell_type": "markdown",
   "metadata": {},
   "source": [
    "### get_surface_tilt"
   ]
  },
  {
   "cell_type": "code",
   "execution_count": 31,
   "metadata": {},
   "outputs": [
    {
     "name": "stdout",
     "output_type": "stream",
     "text": [
      "Returns the tilt of a surface\n",
      "        \n",
      "        :param id: a Surface element id\n",
      "        :type id: str\n",
      "        \n",
      "        :return: the tilt value\n",
      "        :rtype: float or None\n"
     ]
    }
   ],
   "source": [
    "print(Gbxml.get_surface_tilt.__doc__.strip())"
   ]
  },
  {
   "cell_type": "code",
   "execution_count": 66,
   "metadata": {},
   "outputs": [
    {
     "data": {
      "text/plain": [
       "90.0"
      ]
     },
     "execution_count": 66,
     "metadata": {},
     "output_type": "execute_result"
    }
   ],
   "source": [
    "g.get_surface_tilt(id='surface-6')"
   ]
  },
  {
   "cell_type": "markdown",
   "metadata": {},
   "source": [
    "### get_surface_coordinates"
   ]
  },
  {
   "cell_type": "code",
   "execution_count": 32,
   "metadata": {},
   "outputs": [
    {
     "name": "stdout",
     "output_type": "stream",
     "text": [
      "Returns the coordinates of a surface\n",
      "        \n",
      "        :param id: a Surface element id\n",
      "        :type id: str\n",
      "        \n",
      "        :return: a list of coordinate tuples (x,y,z)\n",
      "        :rtype: list (of tuples)\n"
     ]
    }
   ],
   "source": [
    "print(Gbxml.get_surface_coordinates.__doc__.strip())"
   ]
  },
  {
   "cell_type": "code",
   "execution_count": 67,
   "metadata": {},
   "outputs": [
    {
     "data": {
      "text/plain": [
       "[(1.1125, 8.979, 2.735),\n",
       " (4.902, 8.979, 2.735),\n",
       " (4.902, 8.979, 0.0),\n",
       " (1.1125, 8.979, 0.0)]"
      ]
     },
     "execution_count": 67,
     "metadata": {},
     "output_type": "execute_result"
    }
   ],
   "source": [
    "g.get_surface_coordinates(id='surface-6')"
   ]
  },
  {
   "cell_type": "markdown",
   "metadata": {},
   "source": [
    "### get_surface_area"
   ]
  },
  {
   "cell_type": "code",
   "execution_count": 33,
   "metadata": {},
   "outputs": [
    {
     "name": "stdout",
     "output_type": "stream",
     "text": [
      "Returns the area of a surface\n",
      "        \n",
      "        :param id: a Surface element id\n",
      "        :type id: str\n",
      "        \n",
      "        :return: the area value\n",
      "        :rtype: float or None\n"
     ]
    }
   ],
   "source": [
    "print(Gbxml.get_surface_area.__doc__.strip())"
   ]
  },
  {
   "cell_type": "code",
   "execution_count": 68,
   "metadata": {},
   "outputs": [
    {
     "data": {
      "text/plain": [
       "10.3642825"
      ]
     },
     "execution_count": 68,
     "metadata": {},
     "output_type": "execute_result"
    }
   ],
   "source": [
    "g.get_surface_area(id='surface-6')"
   ]
  },
  {
   "cell_type": "markdown",
   "metadata": {},
   "source": [
    "### get_surface_opening_ids"
   ]
  },
  {
   "cell_type": "code",
   "execution_count": 34,
   "metadata": {},
   "outputs": [
    {
     "name": "stdout",
     "output_type": "stream",
     "text": [
      "Returns the opening ids of a surface\n",
      "        \n",
      "        :param id: a Surface element id\n",
      "        :type id: str\n",
      "        \n",
      "        :return: a list of Opening ids\n",
      "        :rtype: list\n"
     ]
    }
   ],
   "source": [
    "print(Gbxml.get_surface_opening_ids.__doc__.strip())"
   ]
  },
  {
   "cell_type": "code",
   "execution_count": 69,
   "metadata": {},
   "outputs": [
    {
     "data": {
      "text/plain": [
       "['surface-6-opening-1']"
      ]
     },
     "execution_count": 69,
     "metadata": {},
     "output_type": "execute_result"
    }
   ],
   "source": [
    "g.get_surface_opening_ids(id='surface-6')"
   ]
  },
  {
   "cell_type": "markdown",
   "metadata": {},
   "source": [
    "## Opening query methods\n",
    "\n",
    "### get_opening_surface_id"
   ]
  },
  {
   "cell_type": "code",
   "execution_count": 35,
   "metadata": {},
   "outputs": [
    {
     "name": "stdout",
     "output_type": "stream",
     "text": [
      "Returns the parent surface id of an opening\n",
      "        \n",
      "        :param id: a Opening element id\n",
      "        :type id: str\n",
      "        \n",
      "        :return: a Surface id\n",
      "        :rtype: str\n"
     ]
    }
   ],
   "source": [
    "print(Gbxml.get_opening_surface_id.__doc__.strip())"
   ]
  },
  {
   "cell_type": "code",
   "execution_count": 70,
   "metadata": {},
   "outputs": [
    {
     "data": {
      "text/plain": [
       "'surface-6'"
      ]
     },
     "execution_count": 70,
     "metadata": {},
     "output_type": "execute_result"
    }
   ],
   "source": [
    "g.get_opening_surface_id(id='surface-6-opening-1')"
   ]
  },
  {
   "cell_type": "markdown",
   "metadata": {},
   "source": [
    "### get_opening_coordinates"
   ]
  },
  {
   "cell_type": "code",
   "execution_count": 36,
   "metadata": {},
   "outputs": [
    {
     "name": "stdout",
     "output_type": "stream",
     "text": [
      "Returns the coordinates of an opening\n",
      "        \n",
      "        :param id: a Opening element id\n",
      "        :type id: str\n",
      "        \n",
      "        :return: a list of coordinate tuples (x,y,z)\n",
      "        :rtype: list (of tuples)\n"
     ]
    }
   ],
   "source": [
    "print(Gbxml.get_opening_coordinates.__doc__.strip())"
   ]
  },
  {
   "cell_type": "code",
   "execution_count": 71,
   "metadata": {},
   "outputs": [
    {
     "data": {
      "text/plain": [
       "[(2.122, 8.979, 2.15),\n",
       " (3.922, 8.979, 2.15),\n",
       " (3.922, 8.979, 0.05),\n",
       " (2.122, 8.979, 0.05)]"
      ]
     },
     "execution_count": 71,
     "metadata": {},
     "output_type": "execute_result"
    }
   ],
   "source": [
    "g.get_opening_coordinates(id='surface-6-opening-1')"
   ]
  },
  {
   "cell_type": "markdown",
   "metadata": {},
   "source": [
    "### get_opening_area"
   ]
  },
  {
   "cell_type": "code",
   "execution_count": 37,
   "metadata": {},
   "outputs": [
    {
     "name": "stdout",
     "output_type": "stream",
     "text": [
      "Returns the area of an opening\n",
      "        \n",
      "        :param id: a Opening element id\n",
      "        :type id: str\n",
      "        \n",
      "        :return: the area value\n",
      "        :rtype: float or None\n"
     ]
    }
   ],
   "source": [
    "print(Gbxml.get_opening_area.__doc__.strip())"
   ]
  },
  {
   "cell_type": "code",
   "execution_count": 72,
   "metadata": {},
   "outputs": [
    {
     "data": {
      "text/plain": [
       "3.7800000000000007"
      ]
     },
     "execution_count": 72,
     "metadata": {},
     "output_type": "execute_result"
    }
   ],
   "source": [
    "g.get_opening_area(id='surface-6-opening-1')"
   ]
  },
  {
   "cell_type": "markdown",
   "metadata": {},
   "source": [
    "## Zone query methods\n",
    "\n",
    "### get_zone_space_ids"
   ]
  },
  {
   "cell_type": "code",
   "execution_count": 38,
   "metadata": {},
   "outputs": [
    {
     "name": "stdout",
     "output_type": "stream",
     "text": [
      "Returns the ids of all spaces in a zone\n",
      "        \n",
      "        :param id: a Zone element id\n",
      "        :type id: str\n",
      "        \n",
      "        :return: a list of Space ids\n",
      "        :rtype: list\n"
     ]
    }
   ],
   "source": [
    "print(Gbxml.get_zone_space_ids.__doc__.strip())"
   ]
  },
  {
   "cell_type": "code",
   "execution_count": 73,
   "metadata": {},
   "outputs": [
    {
     "data": {
      "text/plain": [
       "['DINING_ROOM']"
      ]
     },
     "execution_count": 73,
     "metadata": {},
     "output_type": "execute_result"
    }
   ],
   "source": [
    "g.get_zone_space_ids(id='Zone-DINING_ROOM')"
   ]
  },
  {
   "cell_type": "markdown",
   "metadata": {},
   "source": []
  }
 ],
 "metadata": {
  "kernelspec": {
   "display_name": "Python 3",
   "language": "python",
   "name": "python3"
  },
  "language_info": {
   "codemirror_mode": {
    "name": "ipython",
    "version": 3
   },
   "file_extension": ".py",
   "mimetype": "text/x-python",
   "name": "python",
   "nbconvert_exporter": "python",
   "pygments_lexer": "ipython3",
   "version": "3.7.3"
  }
 },
 "nbformat": 4,
 "nbformat_minor": 2
}
